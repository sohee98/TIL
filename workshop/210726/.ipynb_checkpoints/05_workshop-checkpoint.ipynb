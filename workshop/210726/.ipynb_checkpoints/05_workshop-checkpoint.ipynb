{
 "cells": [
  {
   "cell_type": "markdown",
   "id": "382ea468",
   "metadata": {},
   "source": [
    "### 평균 점수 구하기\n",
    "key 값으로 과목명, value 값으로 점수를 가지는 dictionary를 전달 받아, 전체 과목의\n",
    "평균 점수를 반환하는 함수 get_dict_avg 함수를 작성하시오."
   ]
  },
  {
   "cell_type": "code",
   "execution_count": 1,
   "id": "42a1a0db",
   "metadata": {},
   "outputs": [],
   "source": [
    "def get_dict_avg(dic):\n",
    "    s = 0\n",
    "    for value in dic.values():\n",
    "        s += value\n",
    "    return s/len(dic)"
   ]
  },
  {
   "cell_type": "code",
   "execution_count": 3,
   "id": "3c88b180",
   "metadata": {
    "scrolled": false
   },
   "outputs": [
    {
     "data": {
      "text/plain": [
       "85.5"
      ]
     },
     "execution_count": 3,
     "metadata": {},
     "output_type": "execute_result"
    }
   ],
   "source": [
    "get_dict_avg({\n",
    "    'python': 80,\n",
    "    'algorithm': 90,\n",
    "    'django': 89,\n",
    "    'web': 83,\n",
    "})"
   ]
  },
  {
   "cell_type": "markdown",
   "id": "84d765c3",
   "metadata": {},
   "source": [
    "### 혈액형 분류하기\n",
    "여러 사람의 혈액형(A, B, AB, O)에 대한 정보가 담긴 list를 전달 받아, key는 혈액형의\n",
    "종류, value는 사람 수인 dictionary를 반환하는 count_blood 함수를 작성하시오."
   ]
  },
  {
   "cell_type": "code",
   "execution_count": 4,
   "id": "303d6788",
   "metadata": {},
   "outputs": [],
   "source": [
    "def count_blood(lst):\n",
    "    dic = {'A':'', 'B':'', 'O':'', 'AB':''}\n",
    "    dic.update(A=lst.count('A'))\n",
    "    dic.update(B=lst.count('B'))\n",
    "    dic.update(O=lst.count('O'))\n",
    "    dic.update(AB=lst.count('AB'))\n",
    "    return dic "
   ]
  },
  {
   "cell_type": "code",
   "execution_count": 6,
   "id": "d1f97ab5",
   "metadata": {},
   "outputs": [
    {
     "data": {
      "text/plain": [
       "{'A': 3, 'B': 3, 'O': 3, 'AB': 3}"
      ]
     },
     "execution_count": 6,
     "metadata": {},
     "output_type": "execute_result"
    }
   ],
   "source": [
    "count_blood([\n",
    "    'A', 'B', 'A', 'O', 'AB', 'AB',\n",
    "    'O', 'A', 'B', 'O', 'B', 'AB',\n",
    "])"
   ]
  }
 ],
 "metadata": {
  "kernelspec": {
   "display_name": "Python 3 (ipykernel)",
   "language": "python",
   "name": "python3"
  },
  "language_info": {
   "codemirror_mode": {
    "name": "ipython",
    "version": 3
   },
   "file_extension": ".py",
   "mimetype": "text/x-python",
   "name": "python",
   "nbconvert_exporter": "python",
   "pygments_lexer": "ipython3",
   "version": "3.9.6"
  },
  "toc": {
   "base_numbering": 1,
   "nav_menu": {},
   "number_sections": true,
   "sideBar": true,
   "skip_h1_title": false,
   "title_cell": "Table of Contents",
   "title_sidebar": "Contents",
   "toc_cell": false,
   "toc_position": {},
   "toc_section_display": true,
   "toc_window_display": false
  }
 },
 "nbformat": 4,
 "nbformat_minor": 5
}
