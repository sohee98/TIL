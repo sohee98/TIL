{
 "cells": [
  {
   "cell_type": "markdown",
   "id": "0bc3c039",
   "metadata": {},
   "source": [
    "### . pip\n",
    "아래 명령어는 (1) 무엇을 위한 명령인지 (2) 실행은 어디에서 해야하는지 작성 하시오.\n"
   ]
  },
  {
   "cell_type": "code",
   "execution_count": null,
   "id": "41433587",
   "metadata": {},
   "outputs": [],
   "source": [
    "$ pip install faker"
   ]
  },
  {
   "cell_type": "markdown",
   "id": "f48e043f",
   "metadata": {},
   "source": [
    "(1) faker 이라는 패키지를 설치하는 것\n",
    "(2) bash에서 해야 한다."
   ]
  },
  {
   "cell_type": "markdown",
   "id": "63b3d6ee",
   "metadata": {},
   "source": [
    "### Basic Usages\n",
    "Faker는 다양한 메서드를 통해 임의의 결과값을 반환해준다.\n",
    "임의의 영문 이름을 반환하는 아래 코드에서 라인별 의미를 주석을 참고하여 작성하시오"
   ]
  },
  {
   "cell_type": "code",
   "execution_count": 2,
   "id": "8f661903",
   "metadata": {},
   "outputs": [
    {
     "data": {
      "text/plain": [
       "'Whitney Carpenter'"
      ]
     },
     "execution_count": 2,
     "metadata": {},
     "output_type": "execute_result"
    }
   ],
   "source": [
    "from faker import Faker  #1\n",
    "fake = Faker()            #2\n",
    "fake.name()               #3"
   ]
  },
  {
   "cell_type": "markdown",
   "id": "f4e26cb3",
   "metadata": {},
   "source": [
    "#1 faker라는 패키지안의 Faker라는 모듈을 설치하기 위한 코드이다.\n",
    "#2 Faker는 모듈 이름이고, fake는 인스턴스이다.\n",
    "#3 name()은 fake의 메서드이다."
   ]
  },
  {
   "cell_type": "markdown",
   "id": "df8ec2f2",
   "metadata": {},
   "source": [
    "### Localization\n",
    "Faker는 다양한 언어의 Locale을 지원한다.\n",
    "1. 인자 없이 호출 시에는 영문이 기본 설정이다. (en_US)"
   ]
  },
  {
   "cell_type": "code",
   "execution_count": 3,
   "id": "8ec6f70d",
   "metadata": {},
   "outputs": [
    {
     "data": {
      "text/plain": [
       "'Jeffery Hernandez'"
      ]
     },
     "execution_count": 3,
     "metadata": {},
     "output_type": "execute_result"
    }
   ],
   "source": [
    "fake = Faker()\n",
    "fake.name()\n",
    "# => 'Shelly Wilcox' (랜덤이므로 결과 값이 다를 수 있음)"
   ]
  },
  {
   "cell_type": "markdown",
   "id": "c35066e6",
   "metadata": {},
   "source": [
    "2. Locale 정보를 포함하여 호출 시에는 해당 언어 설정을 따른다."
   ]
  },
  {
   "cell_type": "code",
   "execution_count": 4,
   "id": "38c39d25",
   "metadata": {},
   "outputs": [
    {
     "data": {
      "text/plain": [
       "'조채원'"
      ]
     },
     "execution_count": 4,
     "metadata": {},
     "output_type": "execute_result"
    }
   ],
   "source": [
    "fake_ko = Faker('ko_KR')\n",
    "fake_ko.name()"
   ]
  },
  {
   "cell_type": "markdown",
   "id": "ad58c69e",
   "metadata": {},
   "source": [
    "직접 해당하는 기능을 구현한다고 하였을 때, 빈칸 (a), (b), (c)에 들어갈 코드로 적절한 것을 작성하시오. (힌트: 생성자 메서드와 함수의 개념)"
   ]
  },
  {
   "cell_type": "code",
   "execution_count": null,
   "id": "67759c13",
   "metadata": {},
   "outputs": [],
   "source": [
    "class Faker():\n",
    "    def __(a)__((b), (c)):\n",
    "        pass"
   ]
  },
  {
   "cell_type": "code",
   "execution_count": null,
   "id": "ee869bd2",
   "metadata": {},
   "outputs": [],
   "source": [
    "class Faker():\n",
    "    def __init__(self, name):\n",
    "        pass"
   ]
  },
  {
   "cell_type": "markdown",
   "id": "26c0dc41",
   "metadata": {},
   "source": [
    "### Seeding the Generator\n",
    "컴퓨터 프로그래밍에서 임의의 값을 반환하는 경우(난수 생성 등) 시드라는 개념이 있다. 시드를 설정하게 되면 동일한 순서로 난수를 발생시킬 수 있어 일반적으로 디버깅을 위하여 활용 된다.\n",
    "\n",
    "아래의 코드를 실행 했을 때, #1과 #2에서 출력되는 결과를 각각 작성하고, seed()는 어떤 종류의 메서드인지 작성하시오."
   ]
  },
  {
   "cell_type": "code",
   "execution_count": 23,
   "id": "b50f3272",
   "metadata": {},
   "outputs": [
    {
     "name": "stdout",
     "output_type": "stream",
     "text": [
      "이도윤\n",
      "이지후\n"
     ]
    }
   ],
   "source": [
    "fake = Faker('ko_KR')\n",
    "Faker.seed(4321)\n",
    "\n",
    "print(fake.name())                   #1\n",
    "\n",
    "fake2 = Faker('ko_KR')\n",
    "print(fake2.name())                  #2"
   ]
  },
  {
   "cell_type": "code",
   "execution_count": null,
   "id": "f567f582",
   "metadata": {},
   "outputs": [],
   "source": [
    "#1 이도윤\n",
    "#2 이지후\n",
    "클래스가 랜덤하지 않고 같은 결과값을 출력할 수 있게 만드는 메서드이다."
   ]
  },
  {
   "cell_type": "markdown",
   "id": "9a2c02bc",
   "metadata": {},
   "source": [
    "아래의 코드를 실행 했을 때, #1과 #2에서 출력되는 결과를 각각 작성하고, seed_instance()는 어떤 종류의 메서드인지 작성하시오"
   ]
  },
  {
   "cell_type": "code",
   "execution_count": 19,
   "id": "60ef8b50",
   "metadata": {},
   "outputs": [
    {
     "name": "stdout",
     "output_type": "stream",
     "text": [
      "이도윤\n",
      "김주원\n"
     ]
    }
   ],
   "source": [
    "fake = Faker('ko_KR')\n",
    "fake.seed_instance(4321)\n",
    "\n",
    "print(fake.name())                   #1\n",
    "\n",
    "fake2 = Faker('ko_KR')\n",
    "print(fake2.name())                  #2"
   ]
  },
  {
   "cell_type": "code",
   "execution_count": null,
   "id": "dbe5645f",
   "metadata": {},
   "outputs": [],
   "source": [
    "#1 이도윤\n",
    "#2 김주원 (램덤으로 계속 바뀝니다.)\n",
    "각 인스턴스가 랜덤하지 않고 같은 결과값을 출력할 수 있게 만드는 메서드이다."
   ]
  },
  {
   "cell_type": "markdown",
   "id": "8ba6d895",
   "metadata": {},
   "source": [
    "seed()와 seed_instance()는 각각 어떠한 용도로 쓰일 수 있는지 작성하시오."
   ]
  },
  {
   "cell_type": "code",
   "execution_count": null,
   "id": "e8970275",
   "metadata": {},
   "outputs": [],
   "source": [
    "seed()는 클래스안의 모든 인스턴스가 항상 각각 같은 결과값을 출력하므로, \n",
    "클래스와 사용하며, 모든 인스턴스가 항상 같은 결과를 요구할 때 사용할 수 있다.\n",
    "\n",
    "seed_instance()는 실행하는 인스턴스만 같은 결과값을 출력하므로, \n",
    "인스턴스와 사용하며, 실행한 인스턴스가 항상 같은 결과를 출력하고 싶을 때 사용할 수 있다."
   ]
  }
 ],
 "metadata": {
  "kernelspec": {
   "display_name": "Python 3 (ipykernel)",
   "language": "python",
   "name": "python3"
  },
  "language_info": {
   "codemirror_mode": {
    "name": "ipython",
    "version": 3
   },
   "file_extension": ".py",
   "mimetype": "text/x-python",
   "name": "python",
   "nbconvert_exporter": "python",
   "pygments_lexer": "ipython3",
   "version": "3.9.6"
  },
  "toc": {
   "base_numbering": 1,
   "nav_menu": {},
   "number_sections": true,
   "sideBar": true,
   "skip_h1_title": false,
   "title_cell": "Table of Contents",
   "title_sidebar": "Contents",
   "toc_cell": false,
   "toc_position": {},
   "toc_section_display": true,
   "toc_window_display": false
  }
 },
 "nbformat": 4,
 "nbformat_minor": 5
}
