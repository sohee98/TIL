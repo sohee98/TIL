{
 "cells": [
  {
   "cell_type": "markdown",
   "id": "64f4231c",
   "metadata": {},
   "source": [
    "### Type Class\n",
    "Python은 객체 지향 프로그래밍 언어이다. Python에서 기본적으로 정의되어 있는 클래스를 최소 5가지 이상 작성하시오."
   ]
  },
  {
   "cell_type": "code",
   "execution_count": null,
   "id": "c6526908",
   "metadata": {},
   "outputs": [],
   "source": [
    "int, str, complex, dict, list, ..."
   ]
  },
  {
   "cell_type": "markdown",
   "id": "f1604734",
   "metadata": {},
   "source": [
    "### Magic Method\n",
    "아래에 제시된 매직 메서드들이 각각 어떠한 역할을 하는지 간단하게 작성하시오.\n"
   ]
  },
  {
   "cell_type": "code",
   "execution_count": null,
   "id": "a1526e4b",
   "metadata": {},
   "outputs": [],
   "source": [
    "__init__ : 인스턴스 객체가 생성될 때 호출\n",
    "__del__ : 인스턴스 객체가 소멸되기 직전에 호출되는 함수\n",
    "__str__ : 객체를 인쇄하려고 할 때 실행. 해당 객체의 출력 형태를 지정\n",
    "__repr__ : 객체의 공식적인 표현을 생성하기 위한 것. \n",
    "           __str__()구현이 없으면 print 때 __repr__이 실행됨"
   ]
  },
  {
   "cell_type": "markdown",
   "id": "b49f9ae7",
   "metadata": {},
   "source": [
    "### Instance Method\n",
    ".sort()와 같이 문자열, 리스트, 딕셔너리 등을 조작 할 때 사용하였던 것들은 클래스에\n",
    "정의된 메서드들이었다. 이처럼 문자열, 리스트, 딕셔너리 등을 조작하는 메서드를 최소\n",
    "3가지 이상 그 역할과 함께 작성하시오"
   ]
  },
  {
   "cell_type": "code",
   "execution_count": null,
   "id": "5fc06731",
   "metadata": {},
   "outputs": [],
   "source": [
    "str.capitalize() : 대문자로 바꿈\n",
    "\n",
    "list.append() : 리스트에 값 추가\n",
    "list.reverse() : 리스트 순서 정반대로 바꿈(정렬 아님)\n",
    "list.sort() : 리스트 정렬해줌\n",
    "\n",
    "dict.items() : (key, value)의 튜플로 구성된 결과"
   ]
  },
  {
   "cell_type": "markdown",
   "id": "f73f7fe1",
   "metadata": {},
   "source": [
    "### Module Import\n",
    "```py\n",
    "#fibo.py\n",
    "def fibo_recursion(n):\n",
    "    if n<2:\n",
    "        return n\n",
    "    else:\n",
    "        return fibo_recursion(n-1) + fibo_recursion(n-2)\n",
    "```\n",
    "\n",
    "\n",
    "위와 같은 코드가 같은 폴더 안의 fibo.py 파일에 작성되어 있을 때, 아래와 같은 형태로\n",
    "함수를 실행 할 수 있도록 하는 import 문을 빈칸 (a), (b), (c)를 채워 넣어 완성하시오."
   ]
  },
  {
   "cell_type": "code",
   "execution_count": null,
   "id": "3aa64151",
   "metadata": {},
   "outputs": [],
   "source": [
    "from __(a)__ import __(b)__ as __(c)__\n",
    "recursion(4)"
   ]
  },
  {
   "cell_type": "code",
   "execution_count": 1,
   "id": "f11c7d13",
   "metadata": {},
   "outputs": [
    {
     "data": {
      "text/plain": [
       "3"
      ]
     },
     "execution_count": 1,
     "metadata": {},
     "output_type": "execute_result"
    }
   ],
   "source": [
    "from fibo import fibo_recursion as recursion\n",
    "recursion(4)"
   ]
  }
 ],
 "metadata": {
  "kernelspec": {
   "display_name": "Python 3 (ipykernel)",
   "language": "python",
   "name": "python3"
  },
  "language_info": {
   "codemirror_mode": {
    "name": "ipython",
    "version": 3
   },
   "file_extension": ".py",
   "mimetype": "text/x-python",
   "name": "python",
   "nbconvert_exporter": "python",
   "pygments_lexer": "ipython3",
   "version": "3.9.6"
  },
  "toc": {
   "base_numbering": 1,
   "nav_menu": {},
   "number_sections": true,
   "sideBar": true,
   "skip_h1_title": false,
   "title_cell": "Table of Contents",
   "title_sidebar": "Contents",
   "toc_cell": false,
   "toc_position": {},
   "toc_section_display": true,
   "toc_window_display": false
  }
 },
 "nbformat": 4,
 "nbformat_minor": 5
}
