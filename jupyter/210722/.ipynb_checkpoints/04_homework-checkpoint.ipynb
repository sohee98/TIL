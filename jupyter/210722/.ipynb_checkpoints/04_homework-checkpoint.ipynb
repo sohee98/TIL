{
 "cells": [
  {
   "cell_type": "markdown",
   "id": "0be2aa9e",
   "metadata": {},
   "source": [
    "### 이름 공간(Namespace)\n",
    "Python에서 변수를 찾을 때 접근하는 이름 공간을 순서대로 작성하시오.\n"
   ]
  },
  {
   "cell_type": "markdown",
   "id": "9b50cc61",
   "metadata": {},
   "source": [
    "* LEGB Rule\n",
    "* Local scope : 함수\n",
    "* Enclosed scope : 특정 함수의 상위 함수\n",
    "* Global scope : 함수 밖의 변수, Import 모듈\n",
    "* Built-in scope : 파이썬 안에 내장되어 있는 함수 또는 속성"
   ]
  },
  {
   "cell_type": "markdown",
   "id": "19beefd9",
   "metadata": {},
   "source": [
    "### 매개변수와 인자, 그리고 반환\n",
    "아래의 보기 (1) ~ (4) 중에서, 옳지 않은 것을 고르시오.\n",
    "\n",
    "(1) 함수는 오직 하나의 객체만 반환할 수 있으므로 'return a, b'와 같이 쓸 수 없다.\n",
    "\n",
    "(2) 함수에서 return을 작성하지 않으면 None 값을 반환한다.\n",
    "\n",
    "(3) 함수의 매개변수(parameter)는 함수를 선언할 때 설정한 값이며, 전달 인자(argument)는 함수를 호출할 때 넘겨주는 값이다.\n",
    "\n",
    "(4) 가변 인자를 설정할 때는 인자 앞에 * 을 붙이고, 이 때는 함수 내에서 tuple로 처리 된다."
   ]
  },
  {
   "cell_type": "markdown",
   "id": "b8068fa0",
   "metadata": {},
   "source": [
    "**답 : (1)**"
   ]
  },
  {
   "cell_type": "markdown",
   "id": "bc215a87",
   "metadata": {},
   "source": [
    "### 재귀 함수\n",
    "재귀 함수를 사용했을 때 얻을 수 있는 장점과 단점을 반복문과 비교하여 작성하시오."
   ]
  },
  {
   "cell_type": "markdown",
   "id": "43d1aeab",
   "metadata": {},
   "source": [
    "* 재귀함수\n",
    "    * 장점 \n",
    "        - 코드가 더 직관적이고 이해하기 쉽다. 알고리즘을 설계 및 구현할 때 반복문보다 유용하게 활용된다.\n",
    "    * 단점\n",
    "        - 반복문과 달리 반드시 base case가 존재해야 한다.\n",
    "        - 함수가 호출될 때마다 메모리 공간에 쌓인다. 이로인해 메모리 스택이 넘치거나 프로그램 실행 속도가 늘어지는 단점이 생긴다.\n",
    "        - 입력 값이 커질 수록 연산 속도가 오래걸린다. 반복문이 연산 속도가 더 빠르다. "
   ]
  }
 ],
 "metadata": {
  "kernelspec": {
   "display_name": "Python 3 (ipykernel)",
   "language": "python",
   "name": "python3"
  },
  "language_info": {
   "codemirror_mode": {
    "name": "ipython",
    "version": 3
   },
   "file_extension": ".py",
   "mimetype": "text/x-python",
   "name": "python",
   "nbconvert_exporter": "python",
   "pygments_lexer": "ipython3",
   "version": "3.9.6"
  },
  "toc": {
   "base_numbering": 1,
   "nav_menu": {},
   "number_sections": true,
   "sideBar": true,
   "skip_h1_title": false,
   "title_cell": "Table of Contents",
   "title_sidebar": "Contents",
   "toc_cell": false,
   "toc_position": {},
   "toc_section_display": true,
   "toc_window_display": false
  }
 },
 "nbformat": 4,
 "nbformat_minor": 5
}
