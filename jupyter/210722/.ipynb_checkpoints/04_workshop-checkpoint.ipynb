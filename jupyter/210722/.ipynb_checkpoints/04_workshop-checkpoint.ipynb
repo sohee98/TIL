{
 "cells": [
  {
   "cell_type": "markdown",
   "id": "453810a3",
   "metadata": {},
   "source": [
    "### 숫자의 의미\n",
    "정수로 이루어진 list를 전달 받아, 각 정수에 대응되는 아스키 문자를 이어붙인\n",
    "문자열을 반환하는 get_secret_word 함수를 작성하시오. 단, list는 65이상 90이하\n",
    "그리고 97이상 122이하의 정수로만 구성되어 있다."
   ]
  },
  {
   "cell_type": "code",
   "execution_count": 71,
   "id": "3b5c7f3e",
   "metadata": {},
   "outputs": [],
   "source": [
    "def get_secret_word(lst):\n",
    "    n = ''\n",
    "    for i in lst:\n",
    "        n += chr(i)\n",
    "    return n"
   ]
  },
  {
   "cell_type": "code",
   "execution_count": 72,
   "id": "3928a5e6",
   "metadata": {},
   "outputs": [
    {
     "data": {
      "text/plain": [
       "'SsAfY'"
      ]
     },
     "execution_count": 72,
     "metadata": {},
     "output_type": "execute_result"
    }
   ],
   "source": [
    "get_secret_word([83, 115, 65, 102, 89])"
   ]
  },
  {
   "cell_type": "markdown",
   "id": "5630cb86",
   "metadata": {},
   "source": [
    "### 내 이름은 몇일까?\n",
    "문자열을 전달 받아 해당 문자열의 각 문자에 대응되는 아스키 숫자들의 합을 반환하는\n",
    "get_secret_number 함수를 작성하시오. 단, 문자열은 A ~ Z, a ~ z로만 구성되어 있다."
   ]
  },
  {
   "cell_type": "code",
   "execution_count": 42,
   "id": "bd181733",
   "metadata": {},
   "outputs": [],
   "source": [
    "def get_secret_number(s):\n",
    "    a = 0\n",
    "    for i in s:\n",
    "        a += ord(i)\n",
    "    return a"
   ]
  },
  {
   "cell_type": "code",
   "execution_count": 43,
   "id": "1f11d707",
   "metadata": {},
   "outputs": [
    {
     "data": {
      "text/plain": [
       "336"
      ]
     },
     "execution_count": 43,
     "metadata": {},
     "output_type": "execute_result"
    }
   ],
   "source": [
    "get_secret_number('tom')"
   ]
  },
  {
   "cell_type": "markdown",
   "id": "da5842fa",
   "metadata": {},
   "source": [
    "### 강한 이름\n",
    "문자열 2개를 전달 받아 두 문자열의 각 문자에 대응되는 아스키 숫자들의 합을 비교하\n",
    "여 더 큰 합을 가진 문자열을 반환하는 get_strong_word 함수를 작성하시오."
   ]
  },
  {
   "cell_type": "code",
   "execution_count": 65,
   "id": "1d061e86",
   "metadata": {},
   "outputs": [],
   "source": [
    "def get_strong_word(a, b):\n",
    "    s1, s2 = 0, 0\n",
    "    for i in a:\n",
    "        s1 += ord(i)\n",
    "    for i in b:\n",
    "        s2 += ord(i)\n",
    "    if s1 > s2:\n",
    "        return a\n",
    "    else:\n",
    "        return b"
   ]
  },
  {
   "cell_type": "code",
   "execution_count": 66,
   "id": "c7d983fa",
   "metadata": {
    "scrolled": true
   },
   "outputs": [
    {
     "data": {
      "text/plain": [
       "'z'"
      ]
     },
     "execution_count": 66,
     "metadata": {},
     "output_type": "execute_result"
    }
   ],
   "source": [
    "get_strong_word('z','a')"
   ]
  },
  {
   "cell_type": "code",
   "execution_count": 67,
   "id": "0bed4678",
   "metadata": {},
   "outputs": [
    {
     "data": {
      "text/plain": [
       "'john'"
      ]
     },
     "execution_count": 67,
     "metadata": {},
     "output_type": "execute_result"
    }
   ],
   "source": [
    "get_strong_word('tom', 'john')"
   ]
  }
 ],
 "metadata": {
  "kernelspec": {
   "display_name": "Python 3 (ipykernel)",
   "language": "python",
   "name": "python3"
  },
  "language_info": {
   "codemirror_mode": {
    "name": "ipython",
    "version": 3
   },
   "file_extension": ".py",
   "mimetype": "text/x-python",
   "name": "python",
   "nbconvert_exporter": "python",
   "pygments_lexer": "ipython3",
   "version": "3.9.6"
  },
  "toc": {
   "base_numbering": 1,
   "nav_menu": {},
   "number_sections": true,
   "sideBar": true,
   "skip_h1_title": false,
   "title_cell": "Table of Contents",
   "title_sidebar": "Contents",
   "toc_cell": false,
   "toc_position": {},
   "toc_section_display": true,
   "toc_window_display": false
  }
 },
 "nbformat": 4,
 "nbformat_minor": 5
}
