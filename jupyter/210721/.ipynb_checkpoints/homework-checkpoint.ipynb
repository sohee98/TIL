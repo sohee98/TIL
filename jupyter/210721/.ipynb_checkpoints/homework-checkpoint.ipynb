{
 "cells": [
  {
   "cell_type": "markdown",
   "id": "98d3a601",
   "metadata": {},
   "source": [
    "### 1. Built-in 함수\n",
    "Python에서 기본으로 사용할 수 있는 built-in 함수를 최소 5가지 이상 작성하시오."
   ]
  },
  {
   "cell_type": "markdown",
   "id": "7e18fe89",
   "metadata": {},
   "source": [
    "* sum, type, print, tuple, max, min"
   ]
  },
  {
   "cell_type": "markdown",
   "id": "f918c812",
   "metadata": {},
   "source": [
    "### 2. 정중앙 문자\n",
    "문자열을 전달 받아 해당 문자열의 정중앙 문자를 반환하는 get_middle_char 함수를\n",
    "작성하시오. 단, 문자열의 길이가 짝수일 경우에는 정중앙 문자 2개를 반환한다"
   ]
  },
  {
   "cell_type": "code",
   "execution_count": 7,
   "id": "0859957f",
   "metadata": {},
   "outputs": [
    {
     "name": "stdout",
     "output_type": "stream",
     "text": [
      "a\n",
      "di\n"
     ]
    }
   ],
   "source": [
    "def get_middle_char(a):\n",
    "    l = len(a)\n",
    "    if l % 2 == 0:\n",
    "        return a[(l//2)-1] + a[l//2]\n",
    "    else:\n",
    "        return a[l//2]\n",
    "\n",
    "print(get_middle_char('ssafy'))\n",
    "print(get_middle_char('coding'))"
   ]
  },
  {
   "cell_type": "markdown",
   "id": "f6630ffe",
   "metadata": {},
   "source": [
    "### 3. 위치 인자와 키워드 인자\n",
    "다음과 같이 함수가 선언되어 있을 때, 보기 (1)~(4) 중에서 실행 시 오류가 발생하는 코드를 고르시오\n",
    "* 답 ) 4번"
   ]
  },
  {
   "cell_type": "code",
   "execution_count": 11,
   "id": "1e3355e0",
   "metadata": {},
   "outputs": [
    {
     "ename": "SyntaxError",
     "evalue": "positional argument follows keyword argument (Temp/ipykernel_2996/4237466510.py, line 14)",
     "output_type": "error",
     "traceback": [
      "\u001b[1;36m  File \u001b[1;32m\"C:\\Users\\sohee\\AppData\\Local\\Temp/ipykernel_2996/4237466510.py\"\u001b[1;36m, line \u001b[1;32m14\u001b[0m\n\u001b[1;33m    ssafy(name='길동', '구미')\u001b[0m\n\u001b[1;37m                         ^\u001b[0m\n\u001b[1;31mSyntaxError\u001b[0m\u001b[1;31m:\u001b[0m positional argument follows keyword argument\n"
     ]
    }
   ],
   "source": [
    "def ssafy(name, location='서울'):\n",
    "    print(f'{name}의 지역은 {location}입니다.')\n",
    "    \n",
    "#(1) \n",
    "# ssafy('허준')\n",
    "\n",
    "# (2)\n",
    "# ssafy(location='대전', name='철수')\n",
    "\n",
    "# (3)\n",
    "# ssafy('영희', 'location='광주')\n",
    "\n",
    "# (4)\n",
    "ssafy(name='길동', '구미')"
   ]
  },
  {
   "cell_type": "markdown",
   "id": "facc0e82",
   "metadata": {},
   "source": [
    "### 4. 나의 반환값은\n",
    "다음과 같이 함수를 선언하고 호출하였을 때, 변수 result에 저장된 값을 작성하시오.\n",
    "* 답 ) None"
   ]
  },
  {
   "cell_type": "code",
   "execution_count": 13,
   "id": "00d3e728",
   "metadata": {},
   "outputs": [
    {
     "name": "stdout",
     "output_type": "stream",
     "text": [
      "10\n",
      "None\n"
     ]
    }
   ],
   "source": [
    "def my_func(a, b):\n",
    "    c = a + b\n",
    "    print(c)\n",
    "    \n",
    "result = my_func(3, 7)\n",
    "print(result)"
   ]
  },
  {
   "cell_type": "markdown",
   "id": "5b6947f4",
   "metadata": {},
   "source": [
    "### 5. 가변 인자 리스트\n",
    "가변 인자 리스트를 사용하여, 갯수가 정해지지 않은 여러 정수들을 전달 받아 해당 정\n",
    "수들의 평균 값을 반환하는 my_avg 함수를 작성하시오"
   ]
  },
  {
   "cell_type": "code",
   "execution_count": 15,
   "id": "c66f0c56",
   "metadata": {},
   "outputs": [
    {
     "data": {
      "text/plain": [
       "81.0"
      ]
     },
     "execution_count": 15,
     "metadata": {},
     "output_type": "execute_result"
    }
   ],
   "source": [
    "def my_avg(*args):\n",
    "    return sum(args)/len(args)\n",
    "    \n",
    "my_avg(77, 83, 95, 80, 70)"
   ]
  }
 ],
 "metadata": {
  "kernelspec": {
   "display_name": "Python 3 (ipykernel)",
   "language": "python",
   "name": "python3"
  },
  "language_info": {
   "codemirror_mode": {
    "name": "ipython",
    "version": 3
   },
   "file_extension": ".py",
   "mimetype": "text/x-python",
   "name": "python",
   "nbconvert_exporter": "python",
   "pygments_lexer": "ipython3",
   "version": "3.9.6"
  },
  "toc": {
   "base_numbering": 1,
   "nav_menu": {},
   "number_sections": true,
   "sideBar": true,
   "skip_h1_title": false,
   "title_cell": "Table of Contents",
   "title_sidebar": "Contents",
   "toc_cell": false,
   "toc_position": {},
   "toc_section_display": true,
   "toc_window_display": false
  }
 },
 "nbformat": 4,
 "nbformat_minor": 5
}
