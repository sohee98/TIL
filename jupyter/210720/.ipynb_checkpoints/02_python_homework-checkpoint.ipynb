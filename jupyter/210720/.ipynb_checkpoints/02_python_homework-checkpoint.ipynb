{
 "cells": [
  {
   "cell_type": "markdown",
   "metadata": {},
   "source": [
    "# Homework\n",
    "> 데이터 & 제어문"
   ]
  },
  {
   "cell_type": "markdown",
   "metadata": {},
   "source": [
    "## 1. Mutable & Immutable\n",
    "\n",
    "> 주어진 컨테이너들을 각각 변경 가능한 것(mutable)과 변경 불가능한 것(immutable)으로\n",
    "분류하시오.\n"
   ]
  },
  {
   "cell_type": "code",
   "execution_count": null,
   "metadata": {},
   "outputs": [],
   "source": [
    "String, List, Tuple, Set, Dictionary\n",
    "\n"
   ]
  },
  {
   "cell_type": "code",
   "execution_count": null,
   "metadata": {},
   "outputs": [],
   "source": [
    "# 아래에 답안을 작성하시오.\n",
    "\n",
    "mutable : List, Set, Dictionary\n",
    "immutable : String, Tuple\n"
   ]
  },
  {
   "cell_type": "markdown",
   "metadata": {},
   "source": [
    "## 2. 홀수만 담기\n",
    "\n",
    "> range와 slicing을 활용하여 1부터 50까지의 숫자 중, 홀수로만 이루어진 리스트를 만드시오.\n"
   ]
  },
  {
   "cell_type": "code",
   "execution_count": 1,
   "metadata": {},
   "outputs": [
    {
     "name": "stdout",
     "output_type": "stream",
     "text": [
      "[1, 3, 5, 7, 9, 11, 13, 15, 17, 19, 21, 23, 25, 27, 29, 31, 33, 35, 37, 39, 41, 43, 45, 47, 49]\n"
     ]
    }
   ],
   "source": [
    "# 아래에 답안을 작성하시오.\n",
    "\n",
    "a = list(range(1,51))\n",
    "b = a[0:50:2]\n",
    "print(b)\n"
   ]
  },
  {
   "cell_type": "markdown",
   "metadata": {},
   "source": [
    "## 3. Dictionary 만들기\n",
    "\n",
    "> 반 학생들의 정보를 이용하여 key는 이름, value는 나이인 dictionary를 만드시오."
   ]
  },
  {
   "cell_type": "code",
   "execution_count": 1,
   "metadata": {},
   "outputs": [
    {
     "name": "stdout",
     "output_type": "stream",
     "text": [
      "{'김소희': '24', '이윤영': '30', '문찬송': '30', '최현준': '27', '강인선': '27', '김동일': '26', '강태훈': '29', '김승환': '26', '김지원': '28', '노건우': '28'} <class 'dict'>\n"
     ]
    }
   ],
   "source": [
    "# 아래에 답안을 작성하시오.\n",
    "\n",
    "#나이는 가상입니다.\n",
    "dict = {'김소희' : '24', '이윤영' : '30', '문찬송' : '30', \n",
    "        '최현준' : '27', '강인선' : '27', '김동일' : '26', \n",
    "        '강태훈' : '29', '김승환' : '26', '김지원' : '28', '노건우' : '28',}\n",
    "print(dict, type(dict))\n"
   ]
  },
  {
   "cell_type": "markdown",
   "metadata": {},
   "source": [
    "## 4. 반복문으로 네모 출력\n",
    "\n",
    "> 두 개의 정수 n과 m이 주어졌을 때, 가로의 길이가 n, 세로의 길이가 m인 직사각형 형태를\n",
    "별(*) 문자를 이용하여 출력하시오. 단, 반복문을 사용하여 작성하시오"
   ]
  },
  {
   "cell_type": "code",
   "execution_count": 3,
   "metadata": {},
   "outputs": [
    {
     "name": "stdout",
     "output_type": "stream",
     "text": [
      "*****\n",
      "*   *\n",
      "*   *\n",
      "*   *\n",
      "*   *\n",
      "*   *\n",
      "*   *\n",
      "*   *\n",
      "*****\n",
      "\n",
      "*****\n",
      "*****\n",
      "*****\n",
      "*****\n",
      "*****\n",
      "*****\n",
      "*****\n",
      "*****\n",
      "*****\n"
     ]
    }
   ],
   "source": [
    "n = 5\n",
    "m = 9\n",
    "\n",
    "# 아래에 답안을 작성하시오.\n",
    "\n",
    "for i in range(1,m+1):\n",
    "    if i == 1 or i == m:\n",
    "        print('*' * n)\n",
    "    else:\n",
    "        print('*' + ' ' * (n-2) + '*')\n",
    "\n",
    "print()\n",
    "\n",
    "for i in range(m):\n",
    "    print('*' * n)\n"
   ]
  },
  {
   "cell_type": "markdown",
   "metadata": {},
   "source": [
    "## 5. 조건 표현식\n",
    "\n",
    "> 주어진 코드의 조건문을 조건 표현식으로 바꾸어 작성하시오.\n"
   ]
  },
  {
   "cell_type": "code",
   "execution_count": null,
   "metadata": {},
   "outputs": [],
   "source": [
    "temp = 36.5\n",
    "if temp >= 37.5:\n",
    "    print(\"입실 불가\")\n",
    "else:\n",
    "    print(\"입실 가능\")    \n"
   ]
  },
  {
   "cell_type": "code",
   "execution_count": 8,
   "metadata": {},
   "outputs": [
    {
     "name": "stdout",
     "output_type": "stream",
     "text": [
      "입실 가능\n"
     ]
    }
   ],
   "source": [
    "# 아래에 답안을 작성하시오.\n",
    "\n",
    "temp = 36.5\n",
    "print(\"입실 불가\") if temp >= 37.5 else print(\"입실 가능\")\n"
   ]
  },
  {
   "cell_type": "markdown",
   "metadata": {},
   "source": [
    "## 6. 평균 구하기\n",
    "\n",
    "> 주어진 list에 담긴 숫자들의 평균값을 출력하시오."
   ]
  },
  {
   "cell_type": "code",
   "execution_count": 10,
   "metadata": {},
   "outputs": [
    {
     "name": "stdout",
     "output_type": "stream",
     "text": [
      "87.75\n"
     ]
    }
   ],
   "source": [
    "scores = [80, 89, 99,83]\n",
    "\n",
    "# 아래에 답안을 작성하시오.\n",
    "\n",
    "sum = 0\n",
    "for score in scores:\n",
    "    sum += score\n",
    "print(sum/len(scores))\n"
   ]
  }
 ],
 "metadata": {
  "kernelspec": {
   "display_name": "Python 3 (ipykernel)",
   "language": "python",
   "name": "python3"
  },
  "language_info": {
   "codemirror_mode": {
    "name": "ipython",
    "version": 3
   },
   "file_extension": ".py",
   "mimetype": "text/x-python",
   "name": "python",
   "nbconvert_exporter": "python",
   "pygments_lexer": "ipython3",
   "version": "3.9.6"
  },
  "toc": {
   "base_numbering": 1,
   "nav_menu": {},
   "number_sections": true,
   "sideBar": true,
   "skip_h1_title": false,
   "title_cell": "Table of Contents",
   "title_sidebar": "Contents",
   "toc_cell": false,
   "toc_position": {},
   "toc_section_display": true,
   "toc_window_display": false
  }
 },
 "nbformat": 4,
 "nbformat_minor": 4
}
