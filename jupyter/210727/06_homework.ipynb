{
 "cells": [
  {
   "cell_type": "markdown",
   "id": "37988f0d",
   "metadata": {},
   "source": [
    "### . Built-in 함수와 메서드\n",
    "sorted()와 .sort()의 차이점을 코드의 실행 결과를 활용하여 설명하시오"
   ]
  },
  {
   "cell_type": "markdown",
   "id": "f73bddfb",
   "metadata": {},
   "source": [
    "sorted()는 원본의 함수를 변경하지 않고, 정렬된 리스트를 반환하고,\n",
    ".sort()는 원본의 함수를 변경합니다."
   ]
  },
  {
   "cell_type": "code",
   "execution_count": 1,
   "id": "558ca5df",
   "metadata": {
    "scrolled": true
   },
   "outputs": [
    {
     "name": "stdout",
     "output_type": "stream",
     "text": [
      "[2, 5, 3, 1, 0, 6, 8] [0, 1, 2, 3, 5, 6, 8]\n"
     ]
    }
   ],
   "source": [
    "num = [2, 5, 3, 1, 0, 6, 8]\n",
    "num_sort = sorted(num)\n",
    "print(num, num_sort)"
   ]
  },
  {
   "cell_type": "code",
   "execution_count": 2,
   "id": "2f2ae6f6",
   "metadata": {},
   "outputs": [
    {
     "name": "stdout",
     "output_type": "stream",
     "text": [
      "[0, 1, 2, 3, 5, 6, 8] None\n"
     ]
    }
   ],
   "source": [
    "num = [2, 5, 3, 1, 0, 6, 8]\n",
    "num_sort = num.sort()\n",
    "print(num, num_sort)"
   ]
  },
  {
   "cell_type": "markdown",
   "id": "c8f5da4f",
   "metadata": {},
   "source": [
    "### .extend()와 .append()\n",
    ".extend()와 .append()의 차이점을 코드의 실행 결과를 활용하여 설명하시오."
   ]
  },
  {
   "cell_type": "markdown",
   "id": "f31128e5",
   "metadata": {},
   "source": [
    ".append()는 괄호 안의 값을 추가하고,\n",
    ".extend()는 괄호 안의 값의 항목을 추가합니다. "
   ]
  },
  {
   "cell_type": "code",
   "execution_count": 3,
   "id": "729a4fac",
   "metadata": {
    "scrolled": true
   },
   "outputs": [
    {
     "name": "stdout",
     "output_type": "stream",
     "text": [
      "['1', '2', '3', '456']\n"
     ]
    }
   ],
   "source": [
    "lst = ['1', '2', '3']\n",
    "lst.append('456')\n",
    "print(lst)"
   ]
  },
  {
   "cell_type": "code",
   "execution_count": 4,
   "id": "1b4c3a07",
   "metadata": {},
   "outputs": [
    {
     "name": "stdout",
     "output_type": "stream",
     "text": [
      "['1', '2', '3', '4', '5', '6']\n"
     ]
    }
   ],
   "source": [
    "lst = ['1', '2', '3']\n",
    "lst.extend('456')\n",
    "print(lst)"
   ]
  },
  {
   "cell_type": "markdown",
   "id": "2cf76f2c",
   "metadata": {},
   "source": [
    "### 복사가 잘 된 건가?\n",
    "아래의 코드를 실행 하였을 때, 변수 a와 b에 담긴 list의 요소가 같은지 혹은 다른지 여부를 판단하고 그 이유를 작성하시오."
   ]
  },
  {
   "cell_type": "code",
   "execution_count": 5,
   "id": "584140b8",
   "metadata": {},
   "outputs": [
    {
     "name": "stdout",
     "output_type": "stream",
     "text": [
      "[1, 2, 5, 4, 5]\n",
      "[1, 2, 5, 4, 5]\n"
     ]
    }
   ],
   "source": [
    "a = [1, 2, 3, 4, 5]\n",
    "b = a\n",
    "\n",
    "a[2] = 5\n",
    "\n",
    "print(a)\n",
    "print(b)"
   ]
  },
  {
   "cell_type": "markdown",
   "id": "ab6c217d",
   "metadata": {},
   "source": [
    "list의 요소가 같습니다.\n",
    "\n",
    "리스트는 같은 주소를 참고하기 때문에 b = a로 복사를 하고 b의 일부 값을 변경해도 이를 참조하는 모든 변수에 영향을 끼치기 때문에 원래 리스트인 a도 같이 수정됩니다."
   ]
  }
 ],
 "metadata": {
  "kernelspec": {
   "display_name": "Python 3 (ipykernel)",
   "language": "python",
   "name": "python3"
  },
  "language_info": {
   "codemirror_mode": {
    "name": "ipython",
    "version": 3
   },
   "file_extension": ".py",
   "mimetype": "text/x-python",
   "name": "python",
   "nbconvert_exporter": "python",
   "pygments_lexer": "ipython3",
   "version": "3.9.6"
  },
  "toc": {
   "base_numbering": 1,
   "nav_menu": {},
   "number_sections": true,
   "sideBar": true,
   "skip_h1_title": false,
   "title_cell": "Table of Contents",
   "title_sidebar": "Contents",
   "toc_cell": false,
   "toc_position": {},
   "toc_section_display": true,
   "toc_window_display": false
  }
 },
 "nbformat": 4,
 "nbformat_minor": 5
}
