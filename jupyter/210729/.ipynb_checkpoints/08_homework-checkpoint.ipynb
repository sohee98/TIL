{
 "cells": [
  {
   "cell_type": "markdown",
   "id": "bbc1fbb0",
   "metadata": {},
   "source": [
    "### Circle 인스턴스 만들기\n",
    "아래와 같은 Circle 클래스가 있을 때, 반지름이 3이고 x, y좌표가 (2, 4)인 Circle 인스턴스를 만들어 넓이와 둘레를 출력하시오."
   ]
  },
  {
   "cell_type": "code",
   "execution_count": 1,
   "id": "d61d5814",
   "metadata": {},
   "outputs": [],
   "source": [
    "class Circle:\n",
    "    pi = 3.14\n",
    "    x = 0\n",
    "    y = 0\n",
    "    r = 0\n",
    "    \n",
    "    def __init__(self, r, x ,y):\n",
    "        self.r = r\n",
    "        self.x = x\n",
    "        self.y = y\n",
    "        \n",
    "    def area(self):\n",
    "        return self.pi * self.r * self.r\n",
    "    \n",
    "    def circumference(self):\n",
    "        return 2 * self.pi * self.r\n",
    "    \n",
    "    def center(self):\n",
    "        return (self.x, self.y)"
   ]
  },
  {
   "cell_type": "code",
   "execution_count": 3,
   "id": "9e299493",
   "metadata": {},
   "outputs": [
    {
     "name": "stdout",
     "output_type": "stream",
     "text": [
      "28.259999999999998\n",
      "18.84\n"
     ]
    }
   ],
   "source": [
    "circle = Circle(3, 2, 4)\n",
    "print(circle.area())\n",
    "print(circle.circumference())"
   ]
  },
  {
   "cell_type": "markdown",
   "id": "ea2ebf37",
   "metadata": {},
   "source": [
    "### Dog과 Bird는 Animal이다\n",
    "다음과 같이 Animal 클래스가 주어질 때, 해당 클래스를 상속 받아 아래의 보기와 같이\n",
    "동작하는 Dog 클래스와 Bird 클래스를 작성하시오."
   ]
  },
  {
   "cell_type": "code",
   "execution_count": 7,
   "id": "0fe35eda",
   "metadata": {},
   "outputs": [],
   "source": [
    "class Animal:\n",
    "    def __init__(self, name):\n",
    "        self.name = name\n",
    "        \n",
    "    def walk(self):\n",
    "        print(f'{self.name}! 걷는다!')\n",
    "        \n",
    "    def eat(self):\n",
    "        print(f'{self.name}! 먹는다!')\n",
    "    \n",
    "class Dog(Animal):\n",
    "    def __init__(self, name):\n",
    "        super().__init__(name)\n",
    "        \n",
    "    def bark(self):\n",
    "        print(f'{self.name}! 짖는다!')\n",
    "        \n",
    "class Bird(Animal):\n",
    "    def __init__(self, name):\n",
    "        super().__init__(name)\n",
    "        \n",
    "    def fly(self):\n",
    "        print(f'{self.name}! 푸드덕!')        \n",
    "        "
   ]
  },
  {
   "cell_type": "code",
   "execution_count": 8,
   "id": "d0759b34",
   "metadata": {},
   "outputs": [
    {
     "name": "stdout",
     "output_type": "stream",
     "text": [
      "멍멍이! 걷는다!\n",
      "멍멍이! 짖는다!\n",
      "구구! 걷는다!\n",
      "구구! 먹는다!\n",
      "구구! 푸드덕!\n"
     ]
    }
   ],
   "source": [
    "dog = Dog('멍멍이')\n",
    "dog.walk()\n",
    "dog.bark()\n",
    "\n",
    "bird = Bird('구구')\n",
    "bird.walk()\n",
    "bird.eat()\n",
    "bird.fly()"
   ]
  },
  {
   "cell_type": "markdown",
   "id": "fe0e9e20",
   "metadata": {},
   "source": [
    "### 오류의 종류\n",
    "아래에 제시된 오류들이 각각 어떠한 경우에 발생하는지 간단하게 작성하시오.\n"
   ]
  },
  {
   "cell_type": "markdown",
   "id": "344c00fb",
   "metadata": {},
   "source": [
    "* ZeroDivision Error : `10/0` - 0으로 나눴을 때\n",
    "* NameError : `print(name_error)` - namespace 상에 이름이 없는 경우\n",
    "* TypeError \n",
    "  *  `1 + '1'` - 타입 불일치\n",
    "  * `divmod()` - argument 누락\n",
    "  * `divmod(1, 2, 3)` - argument 개수 초과\n",
    "  * `import random; random.sample(1, 2)` - argument type 불일치\n",
    "* ValueError : `int('3.5')` - 타입은 올바르나 값이 적절하지 않은 경우\n",
    "* IndexError : `empty_list[2]` - 인덱스가 존재하지 않거나 범위를 벗어나는 경우\n",
    "* KeyError : `song['B']` - 해당 키가 존재하지 않는 경우\n",
    "* ModuleNotFoundError : 존재하지 않는 모듈을 import 하는 경우"
   ]
  }
 ],
 "metadata": {
  "kernelspec": {
   "display_name": "Python 3 (ipykernel)",
   "language": "python",
   "name": "python3"
  },
  "language_info": {
   "codemirror_mode": {
    "name": "ipython",
    "version": 3
   },
   "file_extension": ".py",
   "mimetype": "text/x-python",
   "name": "python",
   "nbconvert_exporter": "python",
   "pygments_lexer": "ipython3",
   "version": "3.9.6"
  },
  "toc": {
   "base_numbering": 1,
   "nav_menu": {},
   "number_sections": true,
   "sideBar": true,
   "skip_h1_title": false,
   "title_cell": "Table of Contents",
   "title_sidebar": "Contents",
   "toc_cell": false,
   "toc_position": {},
   "toc_section_display": true,
   "toc_window_display": false
  }
 },
 "nbformat": 4,
 "nbformat_minor": 5
}
