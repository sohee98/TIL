{
 "cells": [
  {
   "cell_type": "markdown",
   "id": "51fecaa2",
   "metadata": {},
   "source": [
    "### 도형 만들기\n",
    "아래의 명세를 읽고 Python 클래스를 활용하여 점(Point)과 사각형(Rectangle)을\n",
    "표현하시오."
   ]
  },
  {
   "cell_type": "code",
   "execution_count": 5,
   "id": "a88335c2",
   "metadata": {},
   "outputs": [],
   "source": [
    "class Point():\n",
    "    def __init__(self, x, y):\n",
    "        self.x = x\n",
    "        self.y = y\n",
    "        \n",
    "        \n",
    "class Rectangle():\n",
    "    def __init__(self, p1, p2):\n",
    "        self.width = p2.x - p1.x\n",
    "        self.length = p1.y - p2.y\n",
    "        \n",
    "    def get_area(self):\n",
    "        return self.width * self.length\n",
    "    \n",
    "    def get_perimeter(self):\n",
    "        return 2 * (self.width + self.length)\n",
    "    \n",
    "    def is_square(self):\n",
    "        return self.width == self.length"
   ]
  },
  {
   "cell_type": "code",
   "execution_count": 6,
   "id": "468f8358",
   "metadata": {},
   "outputs": [
    {
     "name": "stdout",
     "output_type": "stream",
     "text": [
      "4\n",
      "8\n",
      "True\n"
     ]
    }
   ],
   "source": [
    "p1 = Point(1,3)\n",
    "p2 = Point(3,1)\n",
    "r1 = Rectangle(p1, p2)\n",
    "\n",
    "print(r1.get_area())\n",
    "print(r1.get_perimeter())\n",
    "print(r1.is_square())"
   ]
  },
  {
   "cell_type": "code",
   "execution_count": 7,
   "id": "181c0adc",
   "metadata": {},
   "outputs": [
    {
     "name": "stdout",
     "output_type": "stream",
     "text": [
      "9\n",
      "12\n",
      "True\n"
     ]
    }
   ],
   "source": [
    "p3 = Point(3, 7)\n",
    "p4 = Point(6, 4)\n",
    "r2 = Rectangle(p3, p4)\n",
    "\n",
    "print(r2.get_area())\n",
    "print(r2.get_perimeter())\n",
    "print(r2.is_square())"
   ]
  }
 ],
 "metadata": {
  "kernelspec": {
   "display_name": "Python 3 (ipykernel)",
   "language": "python",
   "name": "python3"
  },
  "language_info": {
   "codemirror_mode": {
    "name": "ipython",
    "version": 3
   },
   "file_extension": ".py",
   "mimetype": "text/x-python",
   "name": "python",
   "nbconvert_exporter": "python",
   "pygments_lexer": "ipython3",
   "version": "3.9.6"
  },
  "toc": {
   "base_numbering": 1,
   "nav_menu": {},
   "number_sections": true,
   "sideBar": true,
   "skip_h1_title": false,
   "title_cell": "Table of Contents",
   "title_sidebar": "Contents",
   "toc_cell": false,
   "toc_position": {},
   "toc_section_display": true,
   "toc_window_display": false
  }
 },
 "nbformat": 4,
 "nbformat_minor": 5
}
