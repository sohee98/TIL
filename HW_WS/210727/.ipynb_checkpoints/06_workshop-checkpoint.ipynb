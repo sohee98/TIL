{
 "cells": [
  {
   "cell_type": "markdown",
   "id": "28b9fdd7",
   "metadata": {},
   "source": [
    "### 무엇이 중복일까\n",
    "문자열을 전달 받아 해당 문자열에서 중복해서 나타난 문자들을 담은 list를 반환하는duplicated_letters 함수를 작성하시오"
   ]
  },
  {
   "cell_type": "code",
   "execution_count": 12,
   "id": "bab64db8",
   "metadata": {},
   "outputs": [],
   "source": [
    "def duplicated_letters(word):\n",
    "    result = set()\n",
    "    for i in word:\n",
    "        if word.count(i) > 1:\n",
    "            result.add(i)\n",
    "    return list(result)"
   ]
  },
  {
   "cell_type": "code",
   "execution_count": 49,
   "id": "2a794bd6",
   "metadata": {},
   "outputs": [],
   "source": [
    "def duplicated_letters(word):\n",
    "    result = []\n",
    "    for i in word:\n",
    "        if word.count(i) > 1 and i not in result:\n",
    "            result.append(i)\n",
    "    return result"
   ]
  },
  {
   "cell_type": "code",
   "execution_count": 50,
   "id": "06ac32ad",
   "metadata": {},
   "outputs": [
    {
     "data": {
      "text/plain": [
       "['p']"
      ]
     },
     "execution_count": 50,
     "metadata": {},
     "output_type": "execute_result"
    }
   ],
   "source": [
    "duplicated_letters('apple')"
   ]
  },
  {
   "cell_type": "code",
   "execution_count": 51,
   "id": "ce035cee",
   "metadata": {},
   "outputs": [
    {
     "data": {
      "text/plain": [
       "['a', 'n']"
      ]
     },
     "execution_count": 51,
     "metadata": {},
     "output_type": "execute_result"
    }
   ],
   "source": [
    "duplicated_letters('banana')"
   ]
  },
  {
   "cell_type": "markdown",
   "id": "8dcf2eee",
   "metadata": {},
   "source": [
    "### 소대소대\n",
    "문자열을 전달 받아 해당 문자열을 소문자와 대문자가 번갈아 나타나도록 변환하여 반환하는 low_and_up 함수를 작성하시오. 이때, 전달 받는 문자열은 알파벳으로만 구성된다."
   ]
  },
  {
   "cell_type": "code",
   "execution_count": 15,
   "id": "000db93a",
   "metadata": {},
   "outputs": [],
   "source": [
    "def low_and_up(word):\n",
    "    new_word = ''\n",
    "    for i in range(len(word)):\n",
    "        if i % 2 == 0:\n",
    "            new_word += word[i].lower()\n",
    "        else:\n",
    "            new_word += word[i].upper()\n",
    "    return new_word\n",
    "    "
   ]
  },
  {
   "cell_type": "code",
   "execution_count": 16,
   "id": "cbb4269d",
   "metadata": {},
   "outputs": [
    {
     "data": {
      "text/plain": [
       "'aPpLe'"
      ]
     },
     "execution_count": 16,
     "metadata": {},
     "output_type": "execute_result"
    }
   ],
   "source": [
    "low_and_up('apple')"
   ]
  },
  {
   "cell_type": "code",
   "execution_count": 17,
   "id": "529e44ef",
   "metadata": {},
   "outputs": [
    {
     "data": {
      "text/plain": [
       "'bAnAnA'"
      ]
     },
     "execution_count": 17,
     "metadata": {},
     "output_type": "execute_result"
    }
   ],
   "source": [
    "low_and_up('banana')"
   ]
  },
  {
   "cell_type": "markdown",
   "id": "5035f303",
   "metadata": {},
   "source": [
    "### 숫자의 의미\n",
    "정수 0부터 9까지로 이루어진 list를 전달 받아, 연속적으로 나타나는 숫자는 하나만 남기고 제거한 list를 반환하는 lonely 함수를 작성하시오. 이때, 제거된 후 남은 수들이 담긴 list의 요소들은 기존의 순서를 유지해야 한다."
   ]
  },
  {
   "cell_type": "code",
   "execution_count": 41,
   "id": "5dd288bf",
   "metadata": {},
   "outputs": [],
   "source": [
    "def lonely(numbers):\n",
    "    count = 0\n",
    "    new = []\n",
    "    for n in range(len(numbers)-1):\n",
    "        if numbers[n] == numbers[n+1]:\n",
    "            count += 1\n",
    "        else:\n",
    "            new.append(numbers[n])\n",
    "        \n",
    "        if count > 1:\n",
    "            count = 0\n",
    "            \n",
    "    new.append(numbers[-1])\n",
    "    return new"
   ]
  },
  {
   "cell_type": "code",
   "execution_count": 73,
   "id": "e6e95a7a",
   "metadata": {},
   "outputs": [],
   "source": [
    "def lonely(numbers):\n",
    "    new = []\n",
    "    for n in numbers:\n",
    "        if new == [] or new[-1] != n:\n",
    "            new.append(n)\n",
    "    return new"
   ]
  },
  {
   "cell_type": "code",
   "execution_count": 74,
   "id": "3e2f54b7",
   "metadata": {},
   "outputs": [
    {
     "data": {
      "text/plain": [
       "[1, 3, 0, 1]"
      ]
     },
     "execution_count": 74,
     "metadata": {},
     "output_type": "execute_result"
    }
   ],
   "source": [
    "lonely([1, 1, 3, 3, 0, 1, 1])"
   ]
  },
  {
   "cell_type": "code",
   "execution_count": 75,
   "id": "abfcb8f0",
   "metadata": {
    "scrolled": true
   },
   "outputs": [
    {
     "data": {
      "text/plain": [
       "[4, 3]"
      ]
     },
     "execution_count": 75,
     "metadata": {},
     "output_type": "execute_result"
    }
   ],
   "source": [
    "lonely([4, 4, 4, 3, 3])"
   ]
  }
 ],
 "metadata": {
  "kernelspec": {
   "display_name": "Python 3 (ipykernel)",
   "language": "python",
   "name": "python3"
  },
  "language_info": {
   "codemirror_mode": {
    "name": "ipython",
    "version": 3
   },
   "file_extension": ".py",
   "mimetype": "text/x-python",
   "name": "python",
   "nbconvert_exporter": "python",
   "pygments_lexer": "ipython3",
   "version": "3.9.6"
  },
  "toc": {
   "base_numbering": 1,
   "nav_menu": {},
   "number_sections": true,
   "sideBar": true,
   "skip_h1_title": false,
   "title_cell": "Table of Contents",
   "title_sidebar": "Contents",
   "toc_cell": false,
   "toc_position": {},
   "toc_section_display": true,
   "toc_window_display": false
  }
 },
 "nbformat": 4,
 "nbformat_minor": 5
}
